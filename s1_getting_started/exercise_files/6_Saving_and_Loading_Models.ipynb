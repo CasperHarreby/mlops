{
 "cells": [
  {
   "cell_type": "markdown",
   "metadata": {},
   "source": [
    "# Saving and Loading Models\n",
    "\n",
    "In this notebook, I'll show you how to save and load models with PyTorch. This is important because you'll often want to load previously trained models to use in making predictions or to continue training on new data."
   ]
  },
  {
   "cell_type": "code",
   "execution_count": 1,
   "metadata": {},
   "outputs": [],
   "source": [
    "%matplotlib inline\n",
    "%config InlineBackend.figure_format = 'retina'\n",
    "\n",
    "import matplotlib.pyplot as plt\n",
    "\n",
    "import torch\n",
    "from torch import nn\n",
    "from torch import optim\n",
    "import torch.nn.functional as F\n",
    "from torchvision import datasets, transforms\n",
    "\n",
    "import helper\n",
    "import fc_model"
   ]
  },
  {
   "cell_type": "code",
   "execution_count": 2,
   "metadata": {},
   "outputs": [],
   "source": [
    "# Define a transform to normalize the data\n",
    "transform = transforms.Compose([transforms.ToTensor(),\n",
    "                                transforms.Normalize((0.5,), (0.5,))])\n",
    "# Download and load the training data\n",
    "trainset = datasets.FashionMNIST('~/.pytorch/F_MNIST_data/', download=True, train=True, transform=transform)\n",
    "trainloader = torch.utils.data.DataLoader(trainset, batch_size=64, shuffle=True)\n",
    "\n",
    "# Download and load the test data\n",
    "testset = datasets.FashionMNIST('~/.pytorch/F_MNIST_data/', download=True, train=False, transform=transform)\n",
    "testloader = torch.utils.data.DataLoader(testset, batch_size=64, shuffle=True)"
   ]
  },
  {
   "cell_type": "markdown",
   "metadata": {},
   "source": [
    "Here we can see one of the images."
   ]
  },
  {
   "cell_type": "code",
   "execution_count": 3,
   "metadata": {},
   "outputs": [
    {
     "data": {
      "text/plain": "<Figure size 432x288 with 1 Axes>",
      "image/png": "[encoded data removed]"
     },
     "metadata": {
      "image/png": {
       "width": 231,
       "height": 231
      },
      "needs_background": "light"
     },
     "output_type": "display_data"
    }
   ],
   "source": [
    "image, label = next(iter(trainloader))\n",
    "helper.imshow(image[0,:]);"
   ]
  },
  {
   "cell_type": "markdown",
   "metadata": {},
   "source": [
    "# Train a network\n",
    "\n",
    "To make things more concise here, I moved the model architecture and training code from the last part to a file called `fc_model`. Importing this, we can easily create a fully-connected network with `fc_model.Network`, and train the network using `fc_model.train`. I'll use this model (once it's trained) to demonstrate how we can save and load models."
   ]
  },
  {
   "cell_type": "code",
   "execution_count": 4,
   "metadata": {},
   "outputs": [],
   "source": [
    "# Create the network, define the criterion and optimizer\n",
    "\n",
    "model = fc_model.Network(784, 10, [512, 256, 128])\n",
    "criterion = nn.NLLLoss()\n",
    "optimizer = optim.Adam(model.parameters(), lr=0.001)"
   ]
  },
  {
   "cell_type": "code",
   "execution_count": 5,
   "metadata": {},
   "outputs": [
    {
     "name": "stdout",
     "output_type": "stream",
     "text": [
      "Epoch: 1/2..  Training Loss: 1.728..  Test Loss: 1.006..  Test Accuracy: 0.630\n",
      "Epoch: 1/2..  Training Loss: 1.048..  Test Loss: 0.740..  Test Accuracy: 0.727\n",
      "Epoch: 1/2..  Training Loss: 0.826..  Test Loss: 0.703..  Test Accuracy: 0.736\n",
      "Epoch: 1/2..  Training Loss: 0.791..  Test Loss: 0.659..  Test Accuracy: 0.760\n",
      "Epoch: 1/2..  Training Loss: 0.743..  Test Loss: 0.622..  Test Accuracy: 0.757\n",
      "Epoch: 1/2..  Training Loss: 0.693..  Test Loss: 0.593..  Test Accuracy: 0.779\n",
      "Epoch: 1/2..  Training Loss: 0.675..  Test Loss: 0.596..  Test Accuracy: 0.772\n",
      "Epoch: 1/2..  Training Loss: 0.697..  Test Loss: 0.613..  Test Accuracy: 0.781\n",
      "Epoch: 1/2..  Training Loss: 0.670..  Test Loss: 0.571..  Test Accuracy: 0.786\n",
      "Epoch: 1/2..  Training Loss: 0.658..  Test Loss: 0.527..  Test Accuracy: 0.809\n",
      "Epoch: 1/2..  Training Loss: 0.658..  Test Loss: 0.533..  Test Accuracy: 0.803\n",
      "Epoch: 1/2..  Training Loss: 0.607..  Test Loss: 0.536..  Test Accuracy: 0.800\n",
      "Epoch: 1/2..  Training Loss: 0.597..  Test Loss: 0.528..  Test Accuracy: 0.809\n",
      "Epoch: 1/2..  Training Loss: 0.585..  Test Loss: 0.503..  Test Accuracy: 0.819\n",
      "Epoch: 1/2..  Training Loss: 0.623..  Test Loss: 0.504..  Test Accuracy: 0.818\n",
      "Epoch: 1/2..  Training Loss: 0.616..  Test Loss: 0.517..  Test Accuracy: 0.810\n",
      "Epoch: 1/2..  Training Loss: 0.592..  Test Loss: 0.508..  Test Accuracy: 0.809\n",
      "Epoch: 1/2..  Training Loss: 0.591..  Test Loss: 0.499..  Test Accuracy: 0.815\n",
      "Epoch: 1/2..  Training Loss: 0.598..  Test Loss: 0.504..  Test Accuracy: 0.822\n",
      "Epoch: 1/2..  Training Loss: 0.589..  Test Loss: 0.487..  Test Accuracy: 0.825\n",
      "Epoch: 1/2..  Training Loss: 0.541..  Test Loss: 0.470..  Test Accuracy: 0.827\n",
      "Epoch: 1/2..  Training Loss: 0.558..  Test Loss: 0.501..  Test Accuracy: 0.819\n",
      "Epoch: 1/2..  Training Loss: 0.549..  Test Loss: 0.487..  Test Accuracy: 0.827\n",
      "Epoch: 2/2..  Training Loss: 0.560..  Test Loss: 0.489..  Test Accuracy: 0.820\n",
      "Epoch: 2/2..  Training Loss: 0.556..  Test Loss: 0.486..  Test Accuracy: 0.822\n",
      "Epoch: 2/2..  Training Loss: 0.558..  Test Loss: 0.484..  Test Accuracy: 0.824\n",
      "Epoch: 2/2..  Training Loss: 0.521..  Test Loss: 0.498..  Test Accuracy: 0.823\n",
      "Epoch: 2/2..  Training Loss: 0.526..  Test Loss: 0.469..  Test Accuracy: 0.826\n",
      "Epoch: 2/2..  Training Loss: 0.549..  Test Loss: 0.464..  Test Accuracy: 0.830\n",
      "Epoch: 2/2..  Training Loss: 0.572..  Test Loss: 0.473..  Test Accuracy: 0.833\n",
      "Epoch: 2/2..  Training Loss: 0.545..  Test Loss: 0.460..  Test Accuracy: 0.829\n",
      "Epoch: 2/2..  Training Loss: 0.564..  Test Loss: 0.459..  Test Accuracy: 0.826\n",
      "Epoch: 2/2..  Training Loss: 0.518..  Test Loss: 0.455..  Test Accuracy: 0.835\n",
      "Epoch: 2/2..  Training Loss: 0.529..  Test Loss: 0.462..  Test Accuracy: 0.833\n",
      "Epoch: 2/2..  Training Loss: 0.516..  Test Loss: 0.458..  Test Accuracy: 0.837\n",
      "Epoch: 2/2..  Training Loss: 0.519..  Test Loss: 0.448..  Test Accuracy: 0.838\n",
      "Epoch: 2/2..  Training Loss: 0.538..  Test Loss: 0.466..  Test Accuracy: 0.832\n",
      "Epoch: 2/2..  Training Loss: 0.521..  Test Loss: 0.458..  Test Accuracy: 0.838\n",
      "Epoch: 2/2..  Training Loss: 0.538..  Test Loss: 0.460..  Test Accuracy: 0.831\n",
      "Epoch: 2/2..  Training Loss: 0.549..  Test Loss: 0.452..  Test Accuracy: 0.839\n",
      "Epoch: 2/2..  Training Loss: 0.494..  Test Loss: 0.438..  Test Accuracy: 0.841\n",
      "Epoch: 2/2..  Training Loss: 0.520..  Test Loss: 0.463..  Test Accuracy: 0.833\n",
      "Epoch: 2/2..  Training Loss: 0.556..  Test Loss: 0.462..  Test Accuracy: 0.835\n",
      "Epoch: 2/2..  Training Loss: 0.514..  Test Loss: 0.442..  Test Accuracy: 0.842\n",
      "Epoch: 2/2..  Training Loss: 0.553..  Test Loss: 0.445..  Test Accuracy: 0.844\n",
      "Epoch: 2/2..  Training Loss: 0.490..  Test Loss: 0.463..  Test Accuracy: 0.838\n"
     ]
    }
   ],
   "source": [
    "fc_model.train(model, trainloader, testloader, criterion, optimizer, epochs=2)"
   ]
  },
  {
   "cell_type": "markdown",
   "metadata": {},
   "source": [
    "## Saving and loading networks\n",
    "\n",
    "As you can imagine, it's impractical to train a network every time you need to use it. Instead, we can save trained networks then load them later to train more or use them for predictions.\n",
    "\n",
    "The parameters for PyTorch networks are stored in a model's `state_dict`. We can see the state dict contains the weight and bias matrices for each of our layers."
   ]
  },
  {
   "cell_type": "code",
   "execution_count": 6,
   "metadata": {},
   "outputs": [
    {
     "name": "stdout",
     "output_type": "stream",
     "text": [
      "Our model: \n",
      "\n",
      " Network(\n",
      "  (hidden_layers): ModuleList(\n",
      "    (0): Linear(in_features=784, out_features=512, bias=True)\n",
      "    (1): Linear(in_features=512, out_features=256, bias=True)\n",
      "    (2): Linear(in_features=256, out_features=128, bias=True)\n",
      "  )\n",
      "  (output): Linear(in_features=128, out_features=10, bias=True)\n",
      "  (dropout): Dropout(p=0.5, inplace=False)\n",
      ") \n",
      "\n",
      "The state dict keys: \n",
      "\n",
      " odict_keys(['hidden_layers.0.weight', 'hidden_layers.0.bias', 'hidden_layers.1.weight', 'hidden_layers.1.bias', 'hidden_layers.2.weight', 'hidden_layers.2.bias', 'output.weight', 'output.bias'])\n"
     ]
    }
   ],
   "source": [
    "print(\"Our model: \\n\\n\", model, '\\n')\n",
    "print(\"The state dict keys: \\n\\n\", model.state_dict().keys())"
   ]
  },
  {
   "cell_type": "markdown",
   "metadata": {},
   "source": [
    "The simplest thing to do is simply save the state dict with `torch.save`. For example, we can save it to a file `'checkpoint.pth'`."
   ]
  },
  {
   "cell_type": "code",
   "execution_count": 7,
   "metadata": {},
   "outputs": [],
   "source": [
    "torch.save(model.state_dict(), 'checkpoint.pth')"
   ]
  },
  {
   "cell_type": "markdown",
   "metadata": {},
   "source": [
    "Then we can load the state dict with `torch.load`."
   ]
  },
  {
   "cell_type": "code",
   "execution_count": 8,
   "metadata": {},
   "outputs": [
    {
     "name": "stdout",
     "output_type": "stream",
     "text": [
      "odict_keys(['hidden_layers.0.weight', 'hidden_layers.0.bias', 'hidden_layers.1.weight', 'hidden_layers.1.bias', 'hidden_layers.2.weight', 'hidden_layers.2.bias', 'output.weight', 'output.bias'])\n"
     ]
    }
   ],
   "source": [
    "state_dict = torch.load('checkpoint.pth')\n",
    "print(state_dict.keys())"
   ]
  },
  {
   "cell_type": "markdown",
   "metadata": {},
   "source": [
    "And to load the state dict in to the network, you do `model.load_state_dict(state_dict)`."
   ]
  },
  {
   "cell_type": "code",
   "execution_count": 9,
   "metadata": {},
   "outputs": [
    {
     "data": {
      "text/plain": "<All keys matched successfully>"
     },
     "execution_count": 9,
     "metadata": {},
     "output_type": "execute_result"
    }
   ],
   "source": [
    "model.load_state_dict(state_dict)"
   ]
  },
  {
   "cell_type": "markdown",
   "metadata": {},
   "source": [
    "Seems pretty straightforward, but as usual it's a bit more complicated. Loading the state dict works only if the model architecture is exactly the same as the checkpoint architecture. If I create a model with a different architecture, this fails."
   ]
  },
  {
   "cell_type": "code",
   "execution_count": 10,
   "metadata": {},
   "outputs": [
    {
     "ename": "RuntimeError",
     "evalue": "Error(s) in loading state_dict for Network:\n\tsize mismatch for hidden_layers.0.weight: copying a param with shape torch.Size([512, 784]) from checkpoint, the shape in current model is torch.Size([400, 784]).\n\tsize mismatch for hidden_layers.0.bias: copying a param with shape torch.Size([512]) from checkpoint, the shape in current model is torch.Size([400]).\n\tsize mismatch for hidden_layers.1.weight: copying a param with shape torch.Size([256, 512]) from checkpoint, the shape in current model is torch.Size([200, 400]).\n\tsize mismatch for hidden_layers.1.bias: copying a param with shape torch.Size([256]) from checkpoint, the shape in current model is torch.Size([200]).\n\tsize mismatch for hidden_layers.2.weight: copying a param with shape torch.Size([128, 256]) from checkpoint, the shape in current model is torch.Size([100, 200]).\n\tsize mismatch for hidden_layers.2.bias: copying a param with shape torch.Size([128]) from checkpoint, the shape in current model is torch.Size([100]).\n\tsize mismatch for output.weight: copying a param with shape torch.Size([10, 128]) from checkpoint, the shape in current model is torch.Size([10, 100]).",
     "output_type": "error",
     "traceback": [
      "\u001B[0;31m---------------------------------------------------------------------------\u001B[0m",
      "\u001B[0;31mRuntimeError\u001B[0m                              Traceback (most recent call last)",
      "\u001B[0;32m/var/folders/1f/rnx0xy3n5xz0rnz4kdpzrkbm0000gn/T/ipykernel_19754/2410002423.py\u001B[0m in \u001B[0;36m<module>\u001B[0;34m\u001B[0m\n\u001B[1;32m      2\u001B[0m \u001B[0mmodel\u001B[0m \u001B[0;34m=\u001B[0m \u001B[0mfc_model\u001B[0m\u001B[0;34m.\u001B[0m\u001B[0mNetwork\u001B[0m\u001B[0;34m(\u001B[0m\u001B[0;36m784\u001B[0m\u001B[0;34m,\u001B[0m \u001B[0;36m10\u001B[0m\u001B[0;34m,\u001B[0m \u001B[0;34m[\u001B[0m\u001B[0;36m400\u001B[0m\u001B[0;34m,\u001B[0m \u001B[0;36m200\u001B[0m\u001B[0;34m,\u001B[0m \u001B[0;36m100\u001B[0m\u001B[0;34m]\u001B[0m\u001B[0;34m)\u001B[0m\u001B[0;34m\u001B[0m\u001B[0;34m\u001B[0m\u001B[0m\n\u001B[1;32m      3\u001B[0m \u001B[0;31m# This will throw an error because the tensor sizes are wrong!\u001B[0m\u001B[0;34m\u001B[0m\u001B[0;34m\u001B[0m\u001B[0m\n\u001B[0;32m----> 4\u001B[0;31m \u001B[0mmodel\u001B[0m\u001B[0;34m.\u001B[0m\u001B[0mload_state_dict\u001B[0m\u001B[0;34m(\u001B[0m\u001B[0mstate_dict\u001B[0m\u001B[0;34m)\u001B[0m\u001B[0;34m\u001B[0m\u001B[0;34m\u001B[0m\u001B[0m\n\u001B[0m\u001B[1;32m      5\u001B[0m \u001B[0;34m\u001B[0m\u001B[0m\n",
      "\u001B[0;32m~/opt/miniconda3/envs/dtu_mlops/lib/python3.9/site-packages/torch/nn/modules/module.py\u001B[0m in \u001B[0;36mload_state_dict\u001B[0;34m(self, state_dict, strict)\u001B[0m\n\u001B[1;32m   1049\u001B[0m \u001B[0;34m\u001B[0m\u001B[0m\n\u001B[1;32m   1050\u001B[0m         \u001B[0;32mif\u001B[0m \u001B[0mlen\u001B[0m\u001B[0;34m(\u001B[0m\u001B[0merror_msgs\u001B[0m\u001B[0;34m)\u001B[0m \u001B[0;34m>\u001B[0m \u001B[0;36m0\u001B[0m\u001B[0;34m:\u001B[0m\u001B[0;34m\u001B[0m\u001B[0;34m\u001B[0m\u001B[0m\n\u001B[0;32m-> 1051\u001B[0;31m             raise RuntimeError('Error(s) in loading state_dict for {}:\\n\\t{}'.format(\n\u001B[0m\u001B[1;32m   1052\u001B[0m                                self.__class__.__name__, \"\\n\\t\".join(error_msgs)))\n\u001B[1;32m   1053\u001B[0m         \u001B[0;32mreturn\u001B[0m \u001B[0m_IncompatibleKeys\u001B[0m\u001B[0;34m(\u001B[0m\u001B[0mmissing_keys\u001B[0m\u001B[0;34m,\u001B[0m \u001B[0munexpected_keys\u001B[0m\u001B[0;34m)\u001B[0m\u001B[0;34m\u001B[0m\u001B[0;34m\u001B[0m\u001B[0m\n",
      "\u001B[0;31mRuntimeError\u001B[0m: Error(s) in loading state_dict for Network:\n\tsize mismatch for hidden_layers.0.weight: copying a param with shape torch.Size([512, 784]) from checkpoint, the shape in current model is torch.Size([400, 784]).\n\tsize mismatch for hidden_layers.0.bias: copying a param with shape torch.Size([512]) from checkpoint, the shape in current model is torch.Size([400]).\n\tsize mismatch for hidden_layers.1.weight: copying a param with shape torch.Size([256, 512]) from checkpoint, the shape in current model is torch.Size([200, 400]).\n\tsize mismatch for hidden_layers.1.bias: copying a param with shape torch.Size([256]) from checkpoint, the shape in current model is torch.Size([200]).\n\tsize mismatch for hidden_layers.2.weight: copying a param with shape torch.Size([128, 256]) from checkpoint, the shape in current model is torch.Size([100, 200]).\n\tsize mismatch for hidden_layers.2.bias: copying a param with shape torch.Size([128]) from checkpoint, the shape in current model is torch.Size([100]).\n\tsize mismatch for output.weight: copying a param with shape torch.Size([10, 128]) from checkpoint, the shape in current model is torch.Size([10, 100])."
     ]
    }
   ],
   "source": [
    "# Try this\n",
    "model = fc_model.Network(784, 10, [400, 200, 100])\n",
    "# This will throw an error because the tensor sizes are wrong!\n",
    "model.load_state_dict(state_dict)"
   ]
  },
  {
   "cell_type": "markdown",
   "metadata": {},
   "source": [
    "This means we need to rebuild the model exactly as it was when trained. Information about the model architecture needs to be saved in the checkpoint, along with the state dict. To do this, you build a dictionary with all the information you need to compeletely rebuild the model."
   ]
  },
  {
   "cell_type": "code",
   "execution_count": 14,
   "metadata": {},
   "outputs": [
    {
     "data": {
      "text/plain": "{'input_size': 784,\n 'output_size': 10,\n 'hidden_layers': [400, 200, 100],\n 'state_dict': OrderedDict([('hidden_layers.0.weight',\n               tensor([[-0.0330, -0.0114, -0.0205,  ..., -0.0146, -0.0352,  0.0166],\n                       [-0.0280, -0.0223, -0.0030,  ...,  0.0003, -0.0130,  0.0340],\n                       [ 0.0101,  0.0274,  0.0302,  ..., -0.0339,  0.0144,  0.0316],\n                       ...,\n                       [ 0.0325,  0.0082,  0.0314,  ...,  0.0102,  0.0076,  0.0074],\n                       [ 0.0191, -0.0089,  0.0126,  ..., -0.0272,  0.0053,  0.0298],\n                       [-0.0107, -0.0087,  0.0215,  ...,  0.0269,  0.0195, -0.0303]])),\n              ('hidden_layers.0.bias',\n               tensor([ 0.0254, -0.0270,  0.0239,  0.0308,  0.0167, -0.0081, -0.0290,  0.0090,\n                        0.0224,  0.0130,  0.0240, -0.0255,  0.0277,  0.0317, -0.0082, -0.0236,\n                        0.0176,  0.0032,  0.0071, -0.0083,  0.0106, -0.0152,  0.0331,  0.0234,\n                       -0.0242, -0.0278, -0.0016, -0.0083, -0.0125, -0.0106, -0.0079,  0.0179,\n                       -0.0145,  0.0338, -0.0279,  0.0014,  0.0045,  0.0312, -0.0175,  0.0109,\n                        0.0144,  0.0207,  0.0181,  0.0068, -0.0164,  0.0273,  0.0344,  0.0098,\n                        0.0094, -0.0140,  0.0193,  0.0129, -0.0217,  0.0224,  0.0021,  0.0035,\n                       -0.0250,  0.0314, -0.0343, -0.0289,  0.0300, -0.0207, -0.0106, -0.0317,\n                       -0.0093,  0.0227, -0.0301, -0.0221,  0.0347,  0.0252, -0.0255, -0.0013,\n                       -0.0334, -0.0120,  0.0078,  0.0175, -0.0124, -0.0247,  0.0298, -0.0144,\n                       -0.0096,  0.0113,  0.0269,  0.0056, -0.0249,  0.0051, -0.0278,  0.0232,\n                       -0.0257, -0.0291,  0.0295, -0.0029, -0.0271, -0.0195,  0.0211, -0.0228,\n                       -0.0039,  0.0200,  0.0171, -0.0297,  0.0306,  0.0338, -0.0002,  0.0017,\n                        0.0117,  0.0236,  0.0144,  0.0129,  0.0274,  0.0340,  0.0240, -0.0317,\n                       -0.0132, -0.0354,  0.0147,  0.0216,  0.0283,  0.0070, -0.0110,  0.0058,\n                        0.0092,  0.0321,  0.0056, -0.0269,  0.0203, -0.0250, -0.0152, -0.0305,\n                        0.0019,  0.0262,  0.0165,  0.0055,  0.0117,  0.0083,  0.0063, -0.0210,\n                        0.0109, -0.0046, -0.0193, -0.0212,  0.0243,  0.0210, -0.0020, -0.0060,\n                       -0.0243,  0.0189, -0.0349, -0.0139,  0.0330, -0.0126, -0.0224, -0.0134,\n                       -0.0073,  0.0276,  0.0109,  0.0157,  0.0044, -0.0032, -0.0344, -0.0021,\n                        0.0103,  0.0172, -0.0005,  0.0269,  0.0097,  0.0268,  0.0132,  0.0005,\n                       -0.0317, -0.0298,  0.0138, -0.0200, -0.0081, -0.0289,  0.0074,  0.0100,\n                        0.0023, -0.0172,  0.0333,  0.0209,  0.0336, -0.0082,  0.0121, -0.0177,\n                        0.0019, -0.0045, -0.0243,  0.0251, -0.0120,  0.0154, -0.0166, -0.0197,\n                       -0.0281, -0.0300, -0.0125, -0.0046,  0.0337, -0.0216,  0.0100, -0.0089,\n                        0.0097,  0.0174, -0.0092,  0.0322,  0.0257, -0.0073, -0.0209, -0.0260,\n                        0.0140,  0.0136,  0.0121, -0.0353, -0.0298, -0.0301, -0.0013,  0.0144,\n                        0.0087,  0.0176,  0.0194, -0.0330,  0.0320,  0.0249, -0.0018, -0.0144,\n                       -0.0230, -0.0314,  0.0331,  0.0104, -0.0028, -0.0283, -0.0063,  0.0328,\n                        0.0054,  0.0210, -0.0219,  0.0242, -0.0228, -0.0213,  0.0081, -0.0319,\n                       -0.0338,  0.0186, -0.0122,  0.0051, -0.0043, -0.0014, -0.0184,  0.0300,\n                       -0.0169,  0.0051, -0.0165,  0.0236, -0.0349,  0.0044,  0.0245,  0.0032,\n                        0.0083,  0.0222,  0.0031, -0.0335,  0.0131,  0.0352, -0.0031,  0.0048,\n                       -0.0038,  0.0162,  0.0224,  0.0011,  0.0276,  0.0334, -0.0198, -0.0038,\n                        0.0181,  0.0239,  0.0256,  0.0149, -0.0156,  0.0323, -0.0320,  0.0293,\n                       -0.0048,  0.0183, -0.0215,  0.0021, -0.0151,  0.0176, -0.0107,  0.0286,\n                        0.0284,  0.0123,  0.0103,  0.0017,  0.0043,  0.0219,  0.0013, -0.0210,\n                        0.0134, -0.0326,  0.0068, -0.0196, -0.0283, -0.0242, -0.0259,  0.0238,\n                        0.0326, -0.0201,  0.0271, -0.0081,  0.0274, -0.0080, -0.0260, -0.0201,\n                        0.0348, -0.0193, -0.0069,  0.0303,  0.0151, -0.0059, -0.0031,  0.0108,\n                        0.0017,  0.0329, -0.0033, -0.0278,  0.0117, -0.0036,  0.0222,  0.0331,\n                       -0.0133, -0.0357, -0.0106, -0.0134,  0.0193, -0.0130,  0.0351, -0.0260,\n                        0.0297,  0.0047, -0.0017, -0.0300, -0.0231, -0.0246, -0.0119,  0.0166,\n                        0.0235,  0.0156,  0.0007,  0.0079, -0.0191,  0.0005, -0.0220,  0.0082,\n                       -0.0008,  0.0213, -0.0181, -0.0190,  0.0347,  0.0320, -0.0303,  0.0356,\n                        0.0022,  0.0109,  0.0091,  0.0198,  0.0312,  0.0114, -0.0084,  0.0023,\n                        0.0285,  0.0269, -0.0236, -0.0220,  0.0308,  0.0140, -0.0023, -0.0003,\n                        0.0221,  0.0303,  0.0031, -0.0152, -0.0099, -0.0095,  0.0048, -0.0025,\n                       -0.0162, -0.0306,  0.0085,  0.0144,  0.0032,  0.0108, -0.0317, -0.0130,\n                       -0.0024,  0.0278, -0.0014, -0.0343, -0.0212, -0.0065, -0.0234,  0.0202])),\n              ('hidden_layers.1.weight',\n               tensor([[ 0.0410, -0.0201,  0.0024,  ...,  0.0103, -0.0384,  0.0441],\n                       [ 0.0231,  0.0080,  0.0088,  ...,  0.0092,  0.0193, -0.0097],\n                       [-0.0120, -0.0300, -0.0366,  ..., -0.0265,  0.0289, -0.0171],\n                       ...,\n                       [-0.0470, -0.0489,  0.0223,  ..., -0.0050, -0.0437,  0.0311],\n                       [-0.0209, -0.0232,  0.0190,  ..., -0.0489,  0.0102,  0.0406],\n                       [-0.0035,  0.0269, -0.0186,  ..., -0.0102,  0.0258,  0.0062]])),\n              ('hidden_layers.1.bias',\n               tensor([-2.8498e-02,  2.1129e-02, -2.6509e-02, -2.3409e-02, -4.3387e-02,\n                       -4.8345e-02,  3.8028e-02, -4.6664e-02,  1.5201e-03, -4.4102e-02,\n                        3.2168e-02,  6.0896e-03,  3.7055e-03, -1.5538e-02, -3.0754e-02,\n                        3.4096e-02, -1.8674e-02, -4.5858e-02, -1.9646e-02,  2.6373e-02,\n                        2.9560e-02,  1.4869e-02, -1.3446e-02,  3.2924e-02,  4.5605e-02,\n                       -1.2170e-02,  3.7105e-02,  2.7650e-02, -1.0589e-02, -3.0666e-02,\n                       -4.8893e-03, -3.9539e-02, -1.4424e-05,  2.1083e-02,  2.7652e-02,\n                       -4.4771e-02,  4.1800e-02,  8.6086e-03,  1.7716e-02, -6.9282e-04,\n                       -2.6219e-02,  4.1384e-02,  2.3191e-02,  1.6857e-02, -3.0875e-02,\n                        9.2469e-03,  3.4415e-02,  4.8545e-02, -4.7564e-03,  3.5128e-02,\n                        1.9193e-02,  2.8906e-02, -2.2554e-02, -3.9605e-02,  4.9939e-02,\n                        1.8701e-02,  2.5194e-02,  8.3026e-03, -2.1006e-02, -4.1744e-02,\n                       -5.1279e-03,  4.6750e-02,  2.4456e-02,  2.2821e-02,  5.6256e-03,\n                        3.5874e-02, -2.8604e-02, -1.1748e-02, -1.6248e-03, -1.4218e-02,\n                        4.8044e-02, -4.8667e-03, -4.6492e-03,  3.9510e-02,  2.5629e-02,\n                        3.0587e-02, -3.0765e-02,  3.3239e-02, -4.6742e-02, -3.4374e-02,\n                        3.1675e-02, -1.4240e-02, -4.3720e-02,  2.0990e-02,  2.3847e-03,\n                        2.6522e-02, -4.9914e-02, -7.1938e-03, -2.3669e-02,  3.0329e-02,\n                       -3.5181e-02, -1.5909e-02, -1.2579e-02, -3.5503e-02, -4.9104e-02,\n                        4.5441e-02,  2.8975e-02, -2.6785e-02, -3.6522e-02, -1.2250e-02,\n                       -7.9782e-03, -1.3296e-02,  2.0083e-02, -1.3956e-02,  1.9029e-02,\n                        4.7708e-02, -7.0277e-03, -9.3968e-03, -3.2457e-02,  3.5673e-02,\n                        2.7917e-02,  2.4588e-02, -1.4659e-02,  3.9127e-02, -3.2000e-02,\n                       -1.2967e-02,  9.8547e-03, -3.1986e-02,  2.0519e-03,  1.7524e-02,\n                        4.6071e-02, -1.4160e-02,  2.2031e-03, -1.7394e-02, -2.4166e-03,\n                       -3.0337e-02,  1.8424e-02,  3.3185e-02,  1.2618e-02,  3.1297e-02,\n                       -2.9502e-02,  3.7732e-02,  4.5936e-02,  7.1446e-04,  1.0920e-02,\n                        1.4397e-02, -4.9407e-02,  1.8593e-02,  1.5046e-02, -4.5111e-02,\n                        2.8288e-02,  9.7842e-03, -3.4499e-02, -2.5816e-02, -2.2741e-02,\n                       -1.4537e-02,  4.4706e-02,  4.7372e-02, -5.1384e-03, -2.7579e-02,\n                        2.3201e-02, -3.3430e-03,  4.2333e-03,  1.9562e-02,  3.0256e-02,\n                        3.2520e-02, -3.3651e-02,  1.6068e-02, -2.4025e-02,  3.2656e-02,\n                       -4.7918e-02,  3.0848e-02, -4.7176e-02,  4.7377e-02, -3.9230e-02,\n                       -3.3079e-02, -4.0061e-02, -1.3966e-02, -7.9947e-03,  2.3444e-02,\n                       -3.2753e-02, -3.1561e-02, -1.6431e-02,  1.8931e-03, -1.8100e-02,\n                       -4.6478e-02, -3.9093e-02,  3.2827e-02, -3.9288e-02, -1.1518e-02,\n                       -4.0013e-02, -3.1012e-02, -5.1267e-03,  4.0819e-02,  1.6558e-03,\n                       -4.6728e-02,  4.3316e-02,  1.7533e-02, -3.5562e-02,  2.7169e-02,\n                        5.9466e-03, -6.1731e-03,  2.6149e-04, -4.3524e-02,  4.2798e-02,\n                        3.3670e-02,  4.1285e-02, -1.2516e-02,  4.1442e-02, -3.6365e-02])),\n              ('hidden_layers.2.weight',\n               tensor([[ 0.0018,  0.0693, -0.0207,  ...,  0.0685,  0.0349, -0.0034],\n                       [-0.0361, -0.0398, -0.0249,  ...,  0.0194,  0.0522, -0.0512],\n                       [ 0.0422, -0.0379, -0.0646,  ...,  0.0661, -0.0449, -0.0124],\n                       ...,\n                       [ 0.0157, -0.0456,  0.0280,  ...,  0.0165, -0.0307,  0.0099],\n                       [-0.0354, -0.0402,  0.0604,  ..., -0.0390,  0.0070,  0.0096],\n                       [ 0.0670, -0.0351,  0.0084,  ..., -0.0438,  0.0399,  0.0484]])),\n              ('hidden_layers.2.bias',\n               tensor([ 0.0547,  0.0132,  0.0643, -0.0085,  0.0319, -0.0323, -0.0005,  0.0338,\n                       -0.0274, -0.0057,  0.0231,  0.0296, -0.0634, -0.0446,  0.0298,  0.0505,\n                        0.0106,  0.0680, -0.0065,  0.0649, -0.0307,  0.0420, -0.0563,  0.0351,\n                        0.0614,  0.0414,  0.0576, -0.0420,  0.0396, -0.0281, -0.0631, -0.0616,\n                        0.0110,  0.0119, -0.0644, -0.0562, -0.0074,  0.0406,  0.0325,  0.0653,\n                       -0.0639,  0.0702, -0.0607,  0.0176, -0.0025,  0.0149, -0.0403, -0.0668,\n                       -0.0164, -0.0187,  0.0046, -0.0688, -0.0042, -0.0409,  0.0296,  0.0007,\n                        0.0548,  0.0656, -0.0242,  0.0584, -0.0316,  0.0166,  0.0614,  0.0258,\n                       -0.0115,  0.0623,  0.0682,  0.0100, -0.0484, -0.0463,  0.0075,  0.0392,\n                       -0.0490,  0.0209,  0.0633,  0.0046,  0.0086,  0.0391, -0.0422,  0.0271,\n                        0.0264,  0.0656,  0.0464,  0.0015, -0.0544, -0.0594, -0.0414,  0.0656,\n                       -0.0602,  0.0406, -0.0037, -0.0319,  0.0634,  0.0607,  0.0400,  0.0599,\n                       -0.0478, -0.0389, -0.0641,  0.0565])),\n              ('output.weight',\n               tensor([[-0.0237, -0.0588,  0.0562, -0.0379,  0.0744, -0.0959, -0.0582, -0.0399,\n                        -0.0518, -0.0776, -0.0413, -0.0500, -0.0332,  0.0304,  0.0838, -0.0991,\n                        -0.0455, -0.0809, -0.0078, -0.0512, -0.0784, -0.0373,  0.0213,  0.0350,\n                         0.0552,  0.0608,  0.0347,  0.0522, -0.0662, -0.0486,  0.0921,  0.0251,\n                        -0.0381, -0.0678, -0.0602, -0.0502,  0.0109,  0.0750,  0.0934, -0.0048,\n                        -0.0036, -0.0411, -0.0131, -0.0200, -0.0546, -0.0240,  0.0579, -0.0230,\n                         0.0695,  0.0605,  0.0617,  0.0310, -0.0217, -0.0330, -0.0955,  0.0203,\n                        -0.0115,  0.0780, -0.0886,  0.0076, -0.0821,  0.0241,  0.0983, -0.0746,\n                         0.0246, -0.0481,  0.0811,  0.0453, -0.0204, -0.0469,  0.0683, -0.0995,\n                         0.0767, -0.0771, -0.0106, -0.0954, -0.0129, -0.0928,  0.0802,  0.0754,\n                        -0.0011,  0.0646,  0.0862,  0.0677,  0.0380,  0.0183,  0.0029, -0.0684,\n                        -0.0979, -0.0816,  0.0904,  0.0357,  0.0830, -0.0070,  0.0134,  0.0391,\n                         0.0037,  0.0550, -0.0288, -0.0649],\n                       [-0.0473,  0.0897, -0.0141, -0.0439,  0.0963, -0.0982,  0.0174,  0.0644,\n                        -0.0411, -0.0435,  0.0172,  0.0080,  0.0997,  0.0895, -0.0709,  0.0898,\n                        -0.0522,  0.0247, -0.0626,  0.0387,  0.0343, -0.0904, -0.0343, -0.0390,\n                         0.0432, -0.0237,  0.0051, -0.0038,  0.0555,  0.0481, -0.0889, -0.0796,\n                         0.0388,  0.0613,  0.0481,  0.0043, -0.0909, -0.0509, -0.0270,  0.0316,\n                         0.0276, -0.0574, -0.0565, -0.0002, -0.0010, -0.0364,  0.0719, -0.0004,\n                        -0.0180, -0.0929, -0.0337,  0.0905, -0.0171,  0.0702, -0.0717,  0.0969,\n                         0.0139,  0.0905,  0.0338, -0.0030, -0.0339,  0.0219, -0.0997, -0.0897,\n                         0.0865, -0.0734, -0.0769, -0.0488,  0.0063,  0.0127, -0.0621,  0.0166,\n                        -0.0444,  0.0464,  0.0226,  0.0980, -0.0417,  0.0978,  0.0719,  0.0012,\n                         0.0549, -0.0768,  0.0572,  0.0180,  0.0562, -0.0438, -0.0380, -0.0224,\n                        -0.0986, -0.0973,  0.0997,  0.0481,  0.0058, -0.0852, -0.0201, -0.0575,\n                        -0.0713,  0.0522, -0.0643,  0.0248],\n                       [ 0.0653,  0.0384, -0.0872, -0.0987, -0.0467, -0.0955,  0.0904,  0.0693,\n                        -0.0486,  0.0772, -0.0638, -0.0176,  0.0383, -0.0347,  0.0975, -0.0643,\n                         0.0157, -0.0403,  0.0940, -0.0778,  0.0743,  0.0308,  0.0793,  0.0936,\n                        -0.0598,  0.0013, -0.0861,  0.0958,  0.0255,  0.0294,  0.0377, -0.0856,\n                        -0.0548,  0.0025,  0.0480,  0.0785, -0.0500,  0.0931,  0.0303,  0.0412,\n                        -0.0744,  0.0300,  0.0581,  0.0998, -0.0680,  0.0225,  0.0475, -0.0627,\n                         0.0115,  0.0403,  0.0291, -0.0494, -0.0731, -0.0334, -0.0686,  0.0226,\n                         0.0258, -0.0906,  0.0336, -0.0462,  0.0505, -0.0347, -0.0594, -0.0964,\n                         0.0718,  0.0662,  0.0162, -0.0719,  0.0298,  0.0634,  0.0872, -0.0731,\n                        -0.0662,  0.0988,  0.0375,  0.0192,  0.0066, -0.0903, -0.0943, -0.0851,\n                         0.0201,  0.0478, -0.0188, -0.0631,  0.0781,  0.0521,  0.0132,  0.0629,\n                        -0.0649,  0.0660,  0.0458, -0.0799,  0.0911,  0.0601,  0.0721,  0.0430,\n                         0.0545,  0.0478,  0.0145, -0.0206],\n                       [ 0.0909,  0.0270, -0.0615,  0.0715, -0.0563, -0.0363, -0.0540, -0.0342,\n                         0.0852,  0.0581, -0.0459, -0.0182, -0.0001, -0.0038, -0.0162, -0.0667,\n                         0.0157,  0.0508,  0.0865,  0.0452, -0.0641, -0.0492, -0.0691, -0.0335,\n                         0.0272, -0.0347,  0.0357, -0.0648, -0.0058,  0.0519,  0.0246, -0.0003,\n                        -0.0476, -0.0295,  0.0699, -0.0026,  0.0122, -0.0251,  0.0933,  0.0860,\n                         0.0937, -0.0658,  0.0077, -0.0080, -0.0222, -0.0069, -0.0981,  0.0992,\n                         0.0588, -0.0700,  0.0363,  0.0195, -0.0375,  0.0815, -0.0671, -0.0959,\n                        -0.0867, -0.0680, -0.0860, -0.0968, -0.0316, -0.0228, -0.0058, -0.0799,\n                        -0.0268,  0.0785, -0.0021,  0.0668,  0.0165, -0.0889,  0.0593, -0.0164,\n                         0.0442, -0.0779, -0.0048,  0.0775, -0.0616, -0.0226, -0.0429,  0.0254,\n                         0.0272,  0.0719,  0.0488, -0.0588,  0.0513, -0.0543, -0.0970,  0.0512,\n                        -0.0534, -0.0731, -0.0206, -0.0011, -0.0141, -0.0617,  0.0977, -0.0569,\n                        -0.0429,  0.0048,  0.0875,  0.0324],\n                       [ 0.0517, -0.0959, -0.0226,  0.0791, -0.0880,  0.0153,  0.0413,  0.0047,\n                         0.0061,  0.0713, -0.0195,  0.0847, -0.0297, -0.0662,  0.0277, -0.0172,\n                        -0.0593, -0.0420, -0.0852,  0.0575, -0.0492,  0.0495,  0.0068,  0.0093,\n                        -0.0806, -0.0588,  0.0200,  0.0199,  0.0190,  0.0702, -0.0274,  0.0357,\n                         0.0306, -0.0500,  0.0890,  0.0164, -0.0060, -0.0952,  0.0680,  0.0426,\n                         0.0094, -0.0973, -0.0662,  0.0996, -0.0508,  0.0791, -0.0258,  0.0344,\n                        -0.0436, -0.0181, -0.0021,  0.0479, -0.0564,  0.0850, -0.0768,  0.0156,\n                        -0.0626, -0.0924,  0.0597,  0.0248,  0.0232,  0.0085,  0.0228,  0.0501,\n                        -0.0913, -0.0690,  0.0895,  0.0391,  0.0110,  0.0929, -0.0396, -0.0555,\n                         0.0033, -0.0513, -0.0136, -0.0119,  0.0335,  0.0583, -0.0674,  0.0281,\n                        -0.0223, -0.0039,  0.0962,  0.0982,  0.0405, -0.0899, -0.0344, -0.0897,\n                        -0.0898, -0.0710,  0.0059, -0.0791,  0.0286, -0.0773, -0.0993, -0.0050,\n                         0.0752,  0.0982,  0.0870, -0.0834],\n                       [ 0.0759,  0.0858, -0.0262, -0.0168,  0.0821,  0.0967,  0.0829,  0.0823,\n                        -0.0322, -0.0307, -0.0279,  0.0458,  0.0917, -0.0157, -0.0802, -0.0225,\n                        -0.0809, -0.0729,  0.0152,  0.0766, -0.0085, -0.0868,  0.0045,  0.0481,\n                        -0.0348,  0.0319,  0.0488, -0.0762,  0.0579,  0.0613,  0.0213,  0.0028,\n                        -0.0527, -0.0819, -0.0227,  0.0197,  0.0336, -0.0627,  0.0824,  0.0375,\n                         0.0336, -0.0408, -0.0750,  0.0897, -0.0168, -0.0480, -0.0244, -0.0022,\n                         0.0785,  0.0888, -0.0608,  0.0376, -0.0618,  0.0140, -0.0030,  0.0162,\n                         0.0111,  0.0055, -0.0660,  0.0936, -0.0550,  0.0429,  0.0837,  0.0531,\n                         0.0851, -0.0368, -0.0276,  0.0023,  0.0492, -0.0800,  0.0942,  0.0657,\n                         0.0725,  0.0631, -0.0497, -0.0939, -0.0500,  0.0056, -0.0699,  0.0508,\n                         0.0962,  0.0146,  0.0305,  0.0583,  0.0464,  0.0673, -0.0327, -0.0794,\n                         0.0088, -0.0107, -0.0108,  0.0402,  0.0321,  0.0972,  0.0078, -0.0761,\n                         0.0016, -0.0918,  0.0564,  0.0686],\n                       [-0.0753,  0.0953,  0.0946, -0.0029,  0.0088, -0.0729,  0.0713,  0.0172,\n                         0.0679, -0.0393, -0.0617, -0.0285,  0.0090, -0.0809, -0.0661,  0.0577,\n                        -0.0331,  0.0747, -0.0918, -0.0683, -0.0009, -0.0844,  0.0983,  0.0869,\n                         0.0894,  0.0319,  0.0621,  0.0719,  0.0450,  0.0106,  0.0756,  0.0389,\n                         0.0142, -0.0762, -0.0844,  0.0315,  0.0829, -0.0729, -0.0420,  0.0465,\n                         0.0094, -0.0904,  0.0911, -0.0057, -0.0985, -0.0842, -0.0755,  0.0038,\n                        -0.0469,  0.0180,  0.0602,  0.0515,  0.0707,  0.0024, -0.0055,  0.0129,\n                        -0.0807, -0.0806,  0.0625, -0.0757, -0.0296, -0.0664, -0.0236, -0.0281,\n                        -0.0519,  0.0217,  0.0734, -0.0144, -0.0433,  0.0169,  0.0911,  0.0255,\n                        -0.0526,  0.0577,  0.0099,  0.0831, -0.0804,  0.0480, -0.0901, -0.0984,\n                        -0.0238,  0.0255, -0.0161,  0.0311, -0.0452,  0.0407,  0.0195, -0.0795,\n                         0.0423, -0.0795,  0.0133, -0.0862,  0.0601,  0.0927,  0.0097, -0.0352,\n                         0.0529, -0.0483,  0.0545, -0.0502],\n                       [-0.0423, -0.0116,  0.0270, -0.0630, -0.0021, -0.0364, -0.0885,  0.0423,\n                        -0.0407,  0.0217,  0.0173, -0.0593, -0.0995,  0.0810, -0.0865,  0.0911,\n                         0.0214, -0.0888, -0.0828,  0.0322,  0.0474, -0.0137, -0.0638,  0.0795,\n                         0.0949, -0.0358,  0.0877,  0.0661,  0.0321,  0.0420, -0.0164,  0.0434,\n                         0.0937, -0.0006, -0.0211, -0.0842,  0.0745,  0.0024,  0.0637, -0.0599,\n                        -0.0687, -0.0176, -0.0985,  0.0073, -0.0568, -0.0673, -0.0564, -0.0672,\n                        -0.0464, -0.0074,  0.0477,  0.0075, -0.0996,  0.0280, -0.0514,  0.0109,\n                        -0.0821,  0.0409,  0.0487,  0.0076, -0.0372, -0.0977,  0.0857,  0.0345,\n                        -0.0894, -0.0205,  0.0061,  0.0011, -0.0342,  0.0398, -0.0491, -0.0694,\n                        -0.0391, -0.0408,  0.0739,  0.0675, -0.0554, -0.0749, -0.0799, -0.0759,\n                         0.0345,  0.0660,  0.0659,  0.0799, -0.0828,  0.0745, -0.0736,  0.0107,\n                         0.0029, -0.0201,  0.0611,  0.0558, -0.0281, -0.0323,  0.0123,  0.0810,\n                        -0.0900, -0.0039,  0.0707,  0.0612],\n                       [ 0.0394,  0.0313, -0.0522, -0.0581,  0.0603, -0.0350, -0.0693,  0.0865,\n                        -0.0381,  0.0926,  0.0282,  0.0310, -0.0186,  0.0054,  0.0075, -0.0118,\n                         0.0467,  0.0982, -0.0261, -0.0775,  0.0718, -0.0469,  0.0213, -0.0343,\n                        -0.0297, -0.0702,  0.0020, -0.0236, -0.0376,  0.0051,  0.0554,  0.0628,\n                        -0.0285,  0.0870, -0.0543,  0.0765,  0.0696,  0.0674,  0.0274, -0.0791,\n                        -0.0828,  0.0761,  0.0578, -0.0094, -0.0411,  0.0834, -0.0066, -0.0498,\n                        -0.0741,  0.0802, -0.0811,  0.0349, -0.0263,  0.0666, -0.0676,  0.0357,\n                        -0.0690,  0.0005,  0.0115,  0.0232, -0.0659, -0.0437, -0.0267,  0.0900,\n                         0.0739, -0.0643,  0.0551,  0.0236, -0.0868, -0.0157,  0.0537,  0.0301,\n                        -0.0854,  0.0324, -0.0368,  0.0790,  0.0358,  0.0440,  0.0046,  0.0337,\n                         0.0593, -0.0129, -0.0445, -0.0949, -0.0434,  0.0814,  0.0678,  0.0177,\n                        -0.0967, -0.0271, -0.0410, -0.0607,  0.0264,  0.0726, -0.0444,  0.0260,\n                         0.0614,  0.0675, -0.0773,  0.0986],\n                       [-0.0392,  0.0424,  0.0284, -0.0135, -0.0544, -0.0978, -0.0015,  0.0371,\n                        -0.0165,  0.0115,  0.0461, -0.0327,  0.0945,  0.0197,  0.0328,  0.0938,\n                         0.0331, -0.0440, -0.0281, -0.0890, -0.0820,  0.0901,  0.0741,  0.0202,\n                         0.0584,  0.0493,  0.0546,  0.0254, -0.0743, -0.0517,  0.0831,  0.0108,\n                        -0.0771,  0.0764,  0.0664,  0.0807,  0.0151,  0.0973, -0.0601,  0.0352,\n                        -0.0857,  0.0102,  0.0240, -0.0526, -0.0474,  0.0221,  0.0368,  0.0988,\n                         0.0578,  0.0993,  0.0986,  0.0262,  0.0921, -0.0104, -0.0796,  0.0810,\n                        -0.0268,  0.0166, -0.0075, -0.0598, -0.0686,  0.0088, -0.0807,  0.0378,\n                         0.0554, -0.0819, -0.0140, -0.0023,  0.0264, -0.0081, -0.0219,  0.0037,\n                        -0.0359,  0.0578, -0.0038, -0.0065, -0.0568, -0.0438, -0.0012,  0.0537,\n                         0.0116, -0.0627,  0.0888,  0.0631,  0.0604, -0.0635, -0.0018, -0.0587,\n                         0.0253,  0.0542, -0.0363,  0.0376,  0.0002, -0.0114, -0.0001,  0.0070,\n                        -0.0553, -0.0377, -0.0055,  0.0048]])),\n              ('output.bias',\n               tensor([-0.1230, -0.1370,  0.0809,  0.1212,  0.0610,  0.0539,  0.0811, -0.0311,\n                        0.0623, -0.0427]))])}"
     },
     "execution_count": 14,
     "metadata": {},
     "output_type": "execute_result"
    }
   ],
   "source": [
    "checkpoint = {'input_size': 784,\n",
    "              'output_size': 10,\n",
    "              'hidden_layers': [each.out_features for each in model.hidden_layers],\n",
    "              'state_dict': model.state_dict()}\n",
    "\n",
    "torch.save(checkpoint, 'checkpoint.pth')\n",
    "checkpoint"
   ]
  },
  {
   "cell_type": "markdown",
   "metadata": {},
   "source": [
    "Now the checkpoint has all the necessary information to rebuild the trained model. You can easily make that a function if you want. Similarly, we can write a function to load checkpoints. "
   ]
  },
  {
   "cell_type": "code",
   "execution_count": 12,
   "metadata": {},
   "outputs": [],
   "source": [
    "def load_checkpoint(filepath):\n",
    "    checkpoint = torch.load(filepath)\n",
    "    model = fc_model.Network(checkpoint['input_size'],\n",
    "                             checkpoint['output_size'],\n",
    "                             checkpoint['hidden_layers'])\n",
    "    model.load_state_dict(checkpoint['state_dict'])\n",
    "    \n",
    "    return model"
   ]
  },
  {
   "cell_type": "code",
   "execution_count": 13,
   "metadata": {},
   "outputs": [
    {
     "name": "stdout",
     "output_type": "stream",
     "text": [
      "Network(\n",
      "  (hidden_layers): ModuleList(\n",
      "    (0): Linear(in_features=784, out_features=400, bias=True)\n",
      "    (1): Linear(in_features=400, out_features=200, bias=True)\n",
      "    (2): Linear(in_features=200, out_features=100, bias=True)\n",
      "  )\n",
      "  (output): Linear(in_features=100, out_features=10, bias=True)\n",
      "  (dropout): Dropout(p=0.5, inplace=False)\n",
      ")\n"
     ]
    }
   ],
   "source": [
    "model = load_checkpoint('checkpoint.pth')\n",
    "print(model)"
   ]
  },
  {
   "cell_type": "code",
   "execution_count": null,
   "outputs": [],
   "source": [],
   "metadata": {
    "collapsed": false,
    "pycharm": {
     "name": "#%%\n"
    }
   }
  }
 ],
 "metadata": {
  "kernelspec": {
   "display_name": "Python 3",
   "language": "python",
   "name": "python3"
  },
  "language_info": {
   "codemirror_mode": {
    "name": "ipython",
    "version": 3
   },
   "file_extension": ".py",
   "mimetype": "text/x-python",
   "name": "python",
   "nbconvert_exporter": "python",
   "pygments_lexer": "ipython3",
   "version": "3.6.6"
  }
 },
 "nbformat": 4,
 "nbformat_minor": 2
}